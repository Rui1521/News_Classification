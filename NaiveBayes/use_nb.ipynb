{
 "cells": [
  {
   "cell_type": "code",
   "execution_count": 1,
   "metadata": {},
   "outputs": [],
   "source": [
    "import json\n",
    "with open('../datas/bbc_preprocessed.json') as f:\n",
    "    datas = json.load(f)"
   ]
  },
  {
   "cell_type": "code",
   "execution_count": 2,
   "metadata": {},
   "outputs": [],
   "source": [
    "cate = [data['category'] for data in datas]\n",
    "mp = {'Technology':0,'Entertainment & Arts':1,'Business':2,'Health':3,'Science & Environment':4}\n",
    "cat = [mp[x] for x in cate]\n",
    "cont = [' '.join(data['content']) for data in datas]"
   ]
  },
  {
   "cell_type": "code",
   "execution_count": 5,
   "metadata": {},
   "outputs": [
    {
     "data": {
      "text/plain": [
       "array([ 0.80719118,  0.80531195,  0.79867201,  0.8015535 ,  0.80781759,\n",
       "        0.79979955,  0.80180406,  0.81182661,  0.80355801,  0.80756703])"
      ]
     },
     "execution_count": 5,
     "metadata": {},
     "output_type": "execute_result"
    }
   ],
   "source": [
    "from sklearn.linear_model import SGDClassifier\n",
    "from sklearn.pipeline import Pipeline\n",
    "from sklearn.feature_extraction.text import TfidfTransformer\n",
    "from sklearn.feature_extraction.text import CountVectorizer\n",
    "import numpy as np\n",
    "from sklearn.svm import SVC\n",
    "from sklearn.naive_bayes import MultinomialNB\n",
    "from sklearn.model_selection import cross_val_score\n",
    "from sklearn.model_selection import ShuffleSplit\n",
    "\n",
    "text_clf = Pipeline([('vect', CountVectorizer()),\n",
    "                      ('tfidf', TfidfTransformer()),\n",
    "                      ('clf', MultinomialNB()),\n",
    "])\n",
    "\n",
    "cv = ShuffleSplit(n_splits = 10, test_size = 0.5, random_state=5220)\n",
    "cvs = cross_val_score(text_clf, cont, cat, cv=cv)\n",
    "cvs"
   ]
  },
  {
   "cell_type": "code",
   "execution_count": 7,
   "metadata": {},
   "outputs": [
    {
     "data": {
      "text/plain": [
       "0.80451014783262331"
      ]
     },
     "execution_count": 7,
     "metadata": {},
     "output_type": "execute_result"
    }
   ],
   "source": [
    "np.mean(cvs)"
   ]
  },
  {
   "cell_type": "code",
   "execution_count": 14,
   "metadata": {},
   "outputs": [
    {
     "data": {
      "text/plain": [
       "array([[2050,    4,  276,    0,    0],\n",
       "       [  46, 1217,  171,    0,    0],\n",
       "       [ 230,    8, 3032,    0,    0],\n",
       "       [  66,    1,  304,   29,    0],\n",
       "       [  87,    2,  344,    0,  115]], dtype=int64)"
      ]
     },
     "execution_count": 14,
     "metadata": {},
     "output_type": "execute_result"
    }
   ],
   "source": [
    "from sklearn.model_selection import train_test_split\n",
    "from sklearn.metrics import confusion_matrix\n",
    "\n",
    "x_train, x_test, y_train, y_test = train_test_split(\n",
    "    cont, cat, test_size = 0.5, random_state = 5220\n",
    ")\n",
    "\n",
    "text_clf.fit(x_train, y_train)\n",
    "predicted = text_clf.predict(x_test)\n",
    "\n",
    "cm = confusion_matrix(y_test, predicted)\n",
    "cm"
   ]
  },
  {
   "cell_type": "code",
   "execution_count": 2,
   "metadata": {},
   "outputs": [],
   "source": [
    "from sklearn.feature_extraction.text import TfidfTransformer\n",
    "tfidftransformer = TfidfTransformer()"
   ]
  },
  {
   "cell_type": "code",
   "execution_count": 35,
   "metadata": {},
   "outputs": [
    {
     "data": {
      "image/png": "[encoded data removed]",
      "text/plain": [
       "<matplotlib.figure.Figure at 0x181a4c59b00>"
      ]
     },
     "metadata": {},
     "output_type": "display_data"
    }
   ],
   "source": [
    "import pandas as pd\n",
    "import seaborn as sn\n",
    "import matplotlib.pyplot as plt\n",
    "from sklearn.metrics import accuracy_score\n",
    "\n",
    "mp2 = ['Technology','Entertainment & Arts','Business','Health','Science & Environment']\n",
    "\n",
    "confusion = pd.DataFrame(cm, index=mp2, columns=mp2)\n",
    "plt.xlabel(\"Predicted\")\n",
    "plt.ylabel(\"Actual\")\n",
    "sn.heatmap(confusion, annot=True, fmt='d', cmap='Blues')\n",
    "plt.title(\"Naive Bayes Classifier\")\n",
    "plt.savefig(\"foo.jpg\")\n",
    "plt.show()"
   ]
  },
  {
   "cell_type": "code",
   "execution_count": 23,
   "metadata": {},
   "outputs": [
    {
     "data": {
      "text/html": [
       "<div>\n",
       "<style>\n",
       "    .dataframe thead tr:only-child th {\n",
       "        text-align: right;\n",
       "    }\n",
       "\n",
       "    .dataframe thead th {\n",
       "        text-align: left;\n",
       "    }\n",
       "\n",
       "    .dataframe tbody tr th {\n",
       "        vertical-align: top;\n",
       "    }\n",
       "</style>\n",
       "<table border=\"1\" class=\"dataframe\">\n",
       "  <thead>\n",
       "    <tr style=\"text-align: right;\">\n",
       "      <th></th>\n",
       "      <th>Technology</th>\n",
       "      <th>Entertainment &amp; Arts</th>\n",
       "      <th>Business</th>\n",
       "      <th>Health</th>\n",
       "      <th>Science &amp; Environment</th>\n",
       "    </tr>\n",
       "  </thead>\n",
       "  <tbody>\n",
       "    <tr>\n",
       "      <th>Technology</th>\n",
       "      <td>2050</td>\n",
       "      <td>4</td>\n",
       "      <td>276</td>\n",
       "      <td>0</td>\n",
       "      <td>0</td>\n",
       "    </tr>\n",
       "    <tr>\n",
       "      <th>Entertainment &amp; Arts</th>\n",
       "      <td>46</td>\n",
       "      <td>1217</td>\n",
       "      <td>171</td>\n",
       "      <td>0</td>\n",
       "      <td>0</td>\n",
       "    </tr>\n",
       "    <tr>\n",
       "      <th>Business</th>\n",
       "      <td>230</td>\n",
       "      <td>8</td>\n",
       "      <td>3032</td>\n",
       "      <td>0</td>\n",
       "      <td>0</td>\n",
       "    </tr>\n",
       "    <tr>\n",
       "      <th>Health</th>\n",
       "      <td>66</td>\n",
       "      <td>1</td>\n",
       "      <td>304</td>\n",
       "      <td>29</td>\n",
       "      <td>0</td>\n",
       "    </tr>\n",
       "    <tr>\n",
       "      <th>Science &amp; Environment</th>\n",
       "      <td>87</td>\n",
       "      <td>2</td>\n",
       "      <td>344</td>\n",
       "      <td>0</td>\n",
       "      <td>115</td>\n",
       "    </tr>\n",
       "  </tbody>\n",
       "</table>\n",
       "</div>"
      ],
      "text/plain": [
       "                       Technology  Entertainment & Arts  Business  Health  \\\n",
       "Technology                   2050                     4       276       0   \n",
       "Entertainment & Arts           46                  1217       171       0   \n",
       "Business                      230                     8      3032       0   \n",
       "Health                         66                     1       304      29   \n",
       "Science & Environment          87                     2       344       0   \n",
       "\n",
       "                       Science & Environment  \n",
       "Technology                                 0  \n",
       "Entertainment & Arts                       0  \n",
       "Business                                   0  \n",
       "Health                                     0  \n",
       "Science & Environment                    115  "
      ]
     },
     "execution_count": 23,
     "metadata": {},
     "output_type": "execute_result"
    }
   ],
   "source": [
    "confusion"
   ]
  },
  {
   "cell_type": "code",
   "execution_count": 19,
   "metadata": {},
   "outputs": [
    {
     "data": {
      "text/plain": [
       "Counter({0: 2330, 1: 1434, 2: 3270, 3: 400, 4: 548})"
      ]
     },
     "execution_count": 19,
     "metadata": {},
     "output_type": "execute_result"
    }
   ],
   "source": [
    "Counter(y_test)"
   ]
  }
 ],
 "metadata": {
  "kernelspec": {
   "display_name": "Python 3",
   "language": "python",
   "name": "python3"
  },
  "language_info": {
   "codemirror_mode": {
    "name": "ipython",
    "version": 3
   },
   "file_extension": ".py",
   "mimetype": "text/x-python",
   "name": "python",
   "nbconvert_exporter": "python",
   "pygments_lexer": "ipython3",
   "version": "3.6.3"
  }
 },
 "nbformat": 4,
 "nbformat_minor": 2
}
